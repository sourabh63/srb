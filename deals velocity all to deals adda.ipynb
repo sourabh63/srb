{
 "cells": [
  {
   "cell_type": "code",
   "execution_count": 1,
   "metadata": {},
   "outputs": [],
   "source": [
    "\n",
    "import facebook\n",
    "import os\n",
    "import asyncio\n",
    "from telethon import TelegramClient, events, sync\n",
    "from telethon.tl import functions, types\n",
    "import telepot\n",
    "import re \n",
    "import requests\n",
    "from urllib.parse import unquote\n",
    "import urllib\n",
    "import pyshorteners\n",
    "from fake_useragent import UserAgent\n",
    "\n",
    "ua = UserAgent()\n",
    "header = {\n",
    "    \"User-Agent\": ua.random\n",
    "}\n",
    "\n",
    "graph = facebook.GraphAPI(access_token=\"EAAUlNE7itOABAJssrbDS8ZCtA98yII7qcYufZB4lybQenkRefVkCJhjSCgJDWVKjxMyexSbjt03nkWLJvMsgrnnEuZCuQHMzi7dA4oJt2TlhmrqeHd3OqL2bRvwvD7ECPjZAbLrNDwRXjgSz9iNkJVzp06T4pDgNEPmQlqT7agZDZD\")\n",
    "api_id = 1497619\n",
    "api_hash = 'f22623def4fdbbe851d27b139c62e565'\n",
    "client = TelegramClient('session9', api_id, api_hash)\n",
    "\n",
    "token = '1152339646:AAHiyAuNElwlB6rr_zuPI0DNS7UtaxL_hAo'\n",
    "TelegramBot = telepot.Bot(token)\n",
    "#print TelegramBot.getMe()"
   ]
  },
  {
   "cell_type": "code",
   "execution_count": 2,
   "metadata": {},
   "outputs": [],
   "source": [
    "def Find(string):  \n",
    "    regex = r\"(?i)\\b((?:https?://|www\\d{0,3}[.]|[a-z0-9.\\-]+[.][a-z]{2,4}/)(?:[^\\s()<>]+|\\(([^\\s()<>]+|(\\([^\\s()<>]+\\)))*\\))+(?:\\(([^\\s()<>]+|(\\([^\\s()<>]+\\)))*\\)|[^\\s`!()\\[\\]{};:'\\\".,<>?«»“”‘’]))\"\n",
    "    url = re.findall(regex,string)       \n",
    "    return [x[0] for x in url]"
   ]
  },
  {
   "cell_type": "code",
   "execution_count": 3,
   "metadata": {},
   "outputs": [],
   "source": [
    "def send_messages(raw_txt):\n",
    "    TelegramBot.sendMessage(chat_id='@dealswalaadda', text=make_mylink(raw_txt))\n",
    "    graph.put_object(\"me\", \"feed\", message=make_mylink(raw_txt))"
   ]
  },
  {
   "cell_type": "code",
   "execution_count": 4,
   "metadata": {},
   "outputs": [],
   "source": [
    "def make_mylink(string1):\n",
    "    urls = Find(string1)\n",
    "    for x in urls:\n",
    "        med_link1 = requests.get(x,verify = False,stream = True,headers=header).url\n",
    "        med_link1 = unquote(med_link1)\n",
    "        med_link1 = \"https:\"+ med_link1.split(\"https:\")[med_link1.count(\"https:\")]\n",
    "        #print(med_link1)\n",
    "        if \"amazon.in\" in med_link1:\n",
    "            med_link1 = med_link1.replace(\"ascsubtag=\",\"tag=\")\n",
    "            med_link1 = med_link1.replace(\"?tag=\",\"&tag=\")\n",
    "            med_link1 = med_link1.replace(\"?linkCode=\",\"&linkCode=\")\n",
    "            med_link2 = med_link1.split('&')\n",
    "            if \"tag=\" in med_link1:\n",
    "                matching = [s for s in med_link2 if \"tag=\" in s]\n",
    "                med_link2[med_link2.index(matching[0])] = 'tag=srbnik63-21'\n",
    "            else:\n",
    "                med_link2.insert(len(med_link2),'tag=srbnik63-21')\n",
    "            if \"linkCode=\" in med_link1:\n",
    "                matching = [s for s in med_link2 if \"linkCode=\" in s]\n",
    "                med_link2[med_link2.index(matching[0])] = 'linkCode=ll2'\n",
    "            else:\n",
    "                med_link2.insert(len(med_link2),'linkCode=ll2')\n",
    "            med_link2 = '&'.join(map(str,med_link2))\n",
    "            med_link2 = med_link2.replace(\"&tag=\",\"?&tag=\")\n",
    "        elif \"flipkart.com\" in med_link1:\n",
    "            med_link2 =  \"https://tc.tradetracker.net/?c=31363&m=12&a=381206&u=\" + med_link1\n",
    "        elif \"ajio.com\" in med_link1:\n",
    "            med_link2 =  \"https://tc.tradetracker.net/?c=30161&m=12&a=381206&u=\" + med_link1\n",
    "        elif \"koovs.com\" in med_link1:\n",
    "            med_link2 =  \"https://tc.tradetracker.net/?c=30517&m=12&a=381206&u=\" + med_link1\n",
    "        elif \"myntra.com\" in med_link1:\n",
    "            med_link2 =  \"https://tc.tradetracker.net/?c=30207&m=12&a=381206&u=\" + med_link1\n",
    "        elif \"tatacliq.com\" in med_link1:\n",
    "            med_link2 =  \"https://tc.tradetracker.net/?c=27276&m=12&a=381206&u=\" + med_link1\n",
    "        elif \"jbl.com\" in med_link1:\n",
    "            med_link2 =  \"https://tc.tradetracker.net/?c=27492&m=12&a=381206&u=\" + med_link1    \n",
    "        else:\n",
    "            med_link2 = \"https://linksredirect.com/?cid=88393&source=linkkit&url=\" + med_link1\n",
    "        s = pyshorteners.Shortener()\n",
    "        med_link3 = s.tinyurl.short(med_link2)\n",
    "        string1 = string1.replace(x,med_link3)\n",
    "        string1 = string1.replace(\"@dealsvelocity\",\"@dealswalaadda\")\n",
    "        string1 = string1.replace(\"dealsvelocity\",\"381206\")\n",
    "        string1 = string1.replace(\"deals velocity\",\"381206\")\n",
    "        string1=re.sub('affid=.*&','&',string1,flags=re.DOTALL)\n",
    "        string1=re.sub('affExtParam.*&','&',string1,flags=re.DOTALL)\n",
    "        string1=re.sub('utm_.*&','&',string1,flags=re.DOTALL)\n",
    "        to_replace = ['🌟', '🔗','🎁','📛']\n",
    "        for char in to_replace:\n",
    "            string1 = string1.replace(char,\"\")\n",
    "    if len(urls) > 0:\n",
    "        string1 = string1 + ' \\n\\njoin us on \\nTelegram: https://t.me/dealswalaadda \\n Facebook: https://fb.me/dealswalaadda'\n",
    "    string1 = string1.replace(\"@dealsvelocity\",\"@dealswalaadda\")\n",
    "    string1 = string1.replace(\"dealsvelocity\",\"381206\")\n",
    "    string1 = string1.replace(\"deals velocity\",\"381206\")\n",
    "    return string1"
   ]
  },
  {
   "cell_type": "code",
   "execution_count": null,
   "metadata": {},
   "outputs": [],
   "source": [
    "@client.on(events.NewMessage(chats='dealsvelocity'))\n",
    "async def my_event_handler(event):\n",
    "    await send_messages(event.raw_text)\n",
    "    #await graph.put_object(\"me\", \"feed\", message=send_text)\n",
    "    #await TelegramBot.sendMessage(chat_id='@srbtests', text=event.raw_text)\n",
    "\n",
    "await client.start()\n",
    "await client.run_until_disconnected()"
   ]
  },
  {
   "cell_type": "code",
   "execution_count": null,
   "metadata": {},
   "outputs": [],
   "source": []
  }
 ],
 "metadata": {
  "kernelspec": {
   "display_name": "Python 3",
   "language": "python",
   "name": "python3"
  },
  "language_info": {
   "codemirror_mode": {
    "name": "ipython",
    "version": 3
   },
   "file_extension": ".py",
   "mimetype": "text/x-python",
   "name": "python",
   "nbconvert_exporter": "python",
   "pygments_lexer": "ipython3",
   "version": "3.7.3"
  }
 },
 "nbformat": 4,
 "nbformat_minor": 2
}
